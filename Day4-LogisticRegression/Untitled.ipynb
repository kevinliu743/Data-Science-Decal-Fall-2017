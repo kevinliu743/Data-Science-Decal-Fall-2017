{
 "cells": [
  {
   "cell_type": "code",
   "execution_count": 1,
   "metadata": {
    "collapsed": false
   },
   "outputs": [
    {
     "name": "stdout",
     "output_type": "stream",
     "text": [
      "[14, 3]\n"
     ]
    }
   ],
   "source": [
    "from fractions import Fraction\n",
    "\n",
    "def row_reduce(matrix):\n",
    "    n = len(matrix)\n",
    "    inverse = [[Fraction(0) for col in range(n)] for row in range(n)]\n",
    "\n",
    "    for i in range(n):\n",
    "        inverse[i][i] = Fraction(1)\n",
    "\n",
    "    for i in range(n):\n",
    "        for j in range(n):\n",
    "            if i != j:\n",
    "                if matrix[i][i] == 0:\n",
    "                    return false\n",
    "                ratio = matrix[j][i] / matrix[i][i]\n",
    "                for k in range(n):\n",
    "                    inverse[j][k] = inverse[j][k] - ratio * inverse[i][k]\n",
    "                    matrix[j][k] = matrix[j][k] - ratio * matrix[i][k]\n",
    "\n",
    "    for i in range(n):\n",
    "        a = matrix[i][i]\n",
    "        if a == 0:\n",
    "            return false\n",
    "        for j in range(n):\n",
    "            inverse[i][j] = inverse[i][j] / a\n",
    "    return inverse\n",
    "\n",
    "\n",
    "def solution(pegs):\n",
    "    if len(pegs) < 2:\n",
    "        return [-1, -1]\n",
    "\n",
    "    if len(pegs) == 2:\n",
    "        x = (Fraction(pegs[1] - pegs[0]) / Fraction(3)) * Fraction(2)\n",
    "        if (x.numerator < 1) or (x.numerator < x.denominator):\n",
    "            return [-1, -1]\n",
    "\n",
    "        return [x.numerator, x.denominator]\n",
    "\n",
    "    matrix = []\n",
    "    rowNum = 0\n",
    "    deltas = []\n",
    "    for loc in pegs:\n",
    "        deltas.append(Fraction(pegs[rowNum + 1] - pegs[rowNum]))\n",
    "\n",
    "        if rowNum == 0:\n",
    "            row = [Fraction(2), Fraction(1)] + [Fraction(0)] * (len(pegs) - 3)\n",
    "            matrix.append(row)\n",
    "        elif rowNum == len(pegs) - 2:\n",
    "            row = [Fraction(1)] + [Fraction(0)] * (len(pegs) - 3) + [Fraction(1)]\n",
    "            matrix.append(row)\n",
    "            break\n",
    "        else:\n",
    "            row = [Fraction(0)] * rowNum + [Fraction(1), Fraction(1)] + [Fraction(0)] * (len(pegs) - rowNum - 3)\n",
    "            matrix.append(row)\n",
    "        rowNum = rowNum + 1\n",
    "\n",
    "    inverse = row_reduce(matrix)\n",
    "    if not(inverse):\n",
    "        return [-1, -1]\n",
    "\n",
    "\n",
    "    for i in range(1, len(pegs)-1):\n",
    "        y = Fraction(0)\n",
    "        for j in range(len(pegs)-1):\n",
    "            y = y + inverse[i][j] * deltas[j]\n",
    "        if (y.numerator < 1) or (y.numerator < y.denominator):\n",
    "            return [-1, -1]\n",
    "\n",
    "    x = Fraction(0)\n",
    "    for i in range(len(pegs)-1):\n",
    "        x = x + inverse[0][i] * deltas[i]\n",
    "\n",
    "    x = x * Fraction(2)\n",
    "\n",
    "    if (x.numerator < 1) or (x.numerator < x.denominator):\n",
    "        return [-1, -1]\n",
    "\n",
    "    return [x.numerator, x.denominator]\n",
    "\n",
    "print(solution([4,10,13,17]))"
   ]
  },
  {
   "cell_type": "code",
   "execution_count": null,
   "metadata": {
    "collapsed": true
   },
   "outputs": [],
   "source": []
  }
 ],
 "metadata": {
  "kernelspec": {
   "display_name": "Python 3",
   "language": "python",
   "name": "python3"
  },
  "language_info": {
   "codemirror_mode": {
    "name": "ipython",
    "version": 3
   },
   "file_extension": ".py",
   "mimetype": "text/x-python",
   "name": "python",
   "nbconvert_exporter": "python",
   "pygments_lexer": "ipython3",
   "version": "3.4.5"
  }
 },
 "nbformat": 4,
 "nbformat_minor": 0
}
