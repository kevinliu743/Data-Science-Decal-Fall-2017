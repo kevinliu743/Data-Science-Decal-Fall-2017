{
 "cells": [
  {
   "cell_type": "code",
   "execution_count": 72,
   "metadata": {
    "collapsed": true
   },
   "outputs": [],
   "source": [
    "import numpy as np\n",
    "import pandas as pd\n",
    "import os\n",
    "import sklearn\n",
    "import matplotlib.pyplot as plt\n",
    "import math\n",
    "%matplotlib inline"
   ]
  },
  {
   "cell_type": "markdown",
   "metadata": {},
   "source": [
    "# Reading Data"
   ]
  },
  {
   "cell_type": "code",
   "execution_count": 73,
   "metadata": {
    "collapsed": true
   },
   "outputs": [],
   "source": [
    "def segmentWords(s): \n",
    "    return s.split()\n",
    "\n",
    "def readFile(fileName):\n",
    "    # Function for reading file\n",
    "    # input: filename as string\n",
    "    # output: contents of file as list containing single words\n",
    "    contents = []\n",
    "    f = open(fileName)\n",
    "    for line in f:\n",
    "        contents.append(line)\n",
    "    f.close()\n",
    "    result = segmentWords('\\n'.join(contents))\n",
    "    return result"
   ]
  },
  {
   "cell_type": "markdown",
   "metadata": {},
   "source": [
    "#### Create a Dataframe containing the counts of each word in a file"
   ]
  },
  {
   "cell_type": "code",
   "execution_count": 74,
   "metadata": {
    "collapsed": true
   },
   "outputs": [],
   "source": [
    "d = []\n",
    "\n",
    "for c in os.listdir(\"data_training\"):\n",
    "    directory = \"data_training/\" + c\n",
    "    for file in os.listdir(directory):\n",
    "        words = readFile(directory + \"/\" + file)\n",
    "        e = {x:words.count(x) for x in words}\n",
    "        e['__FileID__'] = file\n",
    "        e['__CLASS__'] = c\n",
    "        d.append(e)"
   ]
  },
  {
   "cell_type": "markdown",
   "metadata": {},
   "source": [
    "Create a dataframe from d - make sure to fill all the nan values with zeros.\n",
    "\n",
    "References:\n",
    "\n",
    "https://pandas.pydata.org/pandas-docs/stable/generated/pandas.DataFrame.html\n",
    "https://pandas.pydata.org/pandas-docs/stable/generated/pandas.DataFrame.fillna.html\n"
   ]
  },
  {
   "cell_type": "code",
   "execution_count": 75,
   "metadata": {
    "collapsed": true
   },
   "outputs": [],
   "source": [
    "dataframe = pd.DataFrame(data=d)\n",
    "dataframe = dataframe.fillna(value=0)"
   ]
  },
  {
   "cell_type": "code",
   "execution_count": 76,
   "metadata": {
    "collapsed": false
   },
   "outputs": [
    {
     "data": {
      "text/plain": [
       "0    neg\n",
       "1    neg\n",
       "2    neg\n",
       "3    neg\n",
       "4    neg\n",
       "Name: __CLASS__, dtype: object"
      ]
     },
     "execution_count": 76,
     "metadata": {},
     "output_type": "execute_result"
    }
   ],
   "source": [
    "dataframe['__CLASS__'].head()"
   ]
  },
  {
   "cell_type": "markdown",
   "metadata": {},
   "source": [
    "#### Split data into training and validation set "
   ]
  },
  {
   "cell_type": "markdown",
   "metadata": {
    "collapsed": true
   },
   "source": [
    "* Sample 80% of your dataframe to be the training data\n",
    "\n",
    "* Let the remaining 20% be the validation data (you can filter out the indicies of the original dataframe that weren't selected for the training data)\n",
    "\n",
    "References:\n",
    "\n",
    "https://pandas.pydata.org/pandas-docs/stable/generated/pandas.DataFrame.sample.html\n",
    "https://pandas.pydata.org/pandas-docs/stable/generated/pandas.DataFrame.drop.html"
   ]
  },
  {
   "cell_type": "code",
   "execution_count": 77,
   "metadata": {
    "collapsed": true
   },
   "outputs": [],
   "source": [
    "training = dataframe.sample(frac=0.8, random_state=5)\n",
    "training = training.drop('__FileID__', 1)\n",
    "indices = training.index\n",
    "remaining = dataframe.drop(indices)\n",
    "remaining = remaining.drop('__FileID__', 1)"
   ]
  },
  {
   "cell_type": "markdown",
   "metadata": {},
   "source": [
    "* Split the dataframe for both training and validation data into x and y dataframes - where y contains the labels and x contains the words\n",
    "\n",
    "References:\n",
    "\n",
    "https://pandas.pydata.org/pandas-docs/stable/generated/pandas.DataFrame.drop.html"
   ]
  },
  {
   "cell_type": "code",
   "execution_count": 78,
   "metadata": {
    "collapsed": false
   },
   "outputs": [
    {
     "data": {
      "text/html": [
       "<div>\n",
       "<table border=\"1\" class=\"dataframe\">\n",
       "  <thead>\n",
       "    <tr style=\"text-align: right;\">\n",
       "      <th></th>\n",
       "      <th>\u0005</th>\n",
       "      <th>\u0013earth</th>\n",
       "      <th>\u0013goodies</th>\n",
       "      <th>\u0013if</th>\n",
       "      <th>\u0013ripley</th>\n",
       "      <th>\u0013suspend</th>\n",
       "      <th>\u0013they</th>\n",
       "      <th>\u0013white\u0014</th>\n",
       "      <th>\u0014</th>\n",
       "      <th>\u0016</th>\n",
       "      <th>...</th>\n",
       "      <th>zukovsky</th>\n",
       "      <th>zundel</th>\n",
       "      <th>zurg's</th>\n",
       "      <th>zweibel</th>\n",
       "      <th>zwick</th>\n",
       "      <th>zwick's</th>\n",
       "      <th>zwigoff's</th>\n",
       "      <th>zycie</th>\n",
       "      <th>zycie'</th>\n",
       "      <th>|</th>\n",
       "    </tr>\n",
       "  </thead>\n",
       "  <tbody>\n",
       "    <tr>\n",
       "      <th>1510</th>\n",
       "      <td>0</td>\n",
       "      <td>0</td>\n",
       "      <td>0</td>\n",
       "      <td>0</td>\n",
       "      <td>0</td>\n",
       "      <td>0</td>\n",
       "      <td>0</td>\n",
       "      <td>0</td>\n",
       "      <td>0</td>\n",
       "      <td>0</td>\n",
       "      <td>...</td>\n",
       "      <td>0</td>\n",
       "      <td>0</td>\n",
       "      <td>0</td>\n",
       "      <td>0</td>\n",
       "      <td>0</td>\n",
       "      <td>0</td>\n",
       "      <td>0</td>\n",
       "      <td>0</td>\n",
       "      <td>0</td>\n",
       "      <td>0</td>\n",
       "    </tr>\n",
       "    <tr>\n",
       "      <th>209</th>\n",
       "      <td>0</td>\n",
       "      <td>0</td>\n",
       "      <td>0</td>\n",
       "      <td>0</td>\n",
       "      <td>0</td>\n",
       "      <td>0</td>\n",
       "      <td>0</td>\n",
       "      <td>0</td>\n",
       "      <td>0</td>\n",
       "      <td>0</td>\n",
       "      <td>...</td>\n",
       "      <td>0</td>\n",
       "      <td>0</td>\n",
       "      <td>0</td>\n",
       "      <td>0</td>\n",
       "      <td>0</td>\n",
       "      <td>0</td>\n",
       "      <td>0</td>\n",
       "      <td>0</td>\n",
       "      <td>0</td>\n",
       "      <td>0</td>\n",
       "    </tr>\n",
       "    <tr>\n",
       "      <th>425</th>\n",
       "      <td>0</td>\n",
       "      <td>0</td>\n",
       "      <td>0</td>\n",
       "      <td>0</td>\n",
       "      <td>0</td>\n",
       "      <td>0</td>\n",
       "      <td>0</td>\n",
       "      <td>0</td>\n",
       "      <td>0</td>\n",
       "      <td>0</td>\n",
       "      <td>...</td>\n",
       "      <td>0</td>\n",
       "      <td>0</td>\n",
       "      <td>0</td>\n",
       "      <td>0</td>\n",
       "      <td>0</td>\n",
       "      <td>0</td>\n",
       "      <td>0</td>\n",
       "      <td>0</td>\n",
       "      <td>0</td>\n",
       "      <td>0</td>\n",
       "    </tr>\n",
       "    <tr>\n",
       "      <th>982</th>\n",
       "      <td>0</td>\n",
       "      <td>0</td>\n",
       "      <td>0</td>\n",
       "      <td>0</td>\n",
       "      <td>0</td>\n",
       "      <td>0</td>\n",
       "      <td>0</td>\n",
       "      <td>0</td>\n",
       "      <td>0</td>\n",
       "      <td>0</td>\n",
       "      <td>...</td>\n",
       "      <td>0</td>\n",
       "      <td>0</td>\n",
       "      <td>0</td>\n",
       "      <td>0</td>\n",
       "      <td>0</td>\n",
       "      <td>0</td>\n",
       "      <td>0</td>\n",
       "      <td>0</td>\n",
       "      <td>0</td>\n",
       "      <td>0</td>\n",
       "    </tr>\n",
       "    <tr>\n",
       "      <th>619</th>\n",
       "      <td>0</td>\n",
       "      <td>0</td>\n",
       "      <td>0</td>\n",
       "      <td>0</td>\n",
       "      <td>0</td>\n",
       "      <td>0</td>\n",
       "      <td>0</td>\n",
       "      <td>0</td>\n",
       "      <td>0</td>\n",
       "      <td>0</td>\n",
       "      <td>...</td>\n",
       "      <td>0</td>\n",
       "      <td>0</td>\n",
       "      <td>0</td>\n",
       "      <td>0</td>\n",
       "      <td>0</td>\n",
       "      <td>0</td>\n",
       "      <td>0</td>\n",
       "      <td>0</td>\n",
       "      <td>0</td>\n",
       "      <td>0</td>\n",
       "    </tr>\n",
       "  </tbody>\n",
       "</table>\n",
       "<p>5 rows × 45671 columns</p>\n",
       "</div>"
      ],
      "text/plain": [
       "      \u0005  \u0013earth  \u0013goodies  \u0013if  \u0013ripley  \u0013suspend  \u0013they  \u0013white\u0014  \u0014  \u0016 ...  \\\n",
       "1510  0       0         0    0        0         0      0        0  0  0 ...   \n",
       "209   0       0         0    0        0         0      0        0  0  0 ...   \n",
       "425   0       0         0    0        0         0      0        0  0  0 ...   \n",
       "982   0       0         0    0        0         0      0        0  0  0 ...   \n",
       "619   0       0         0    0        0         0      0        0  0  0 ...   \n",
       "\n",
       "      zukovsky  zundel  zurg's  zweibel  zwick  zwick's  zwigoff's  zycie  \\\n",
       "1510         0       0       0        0      0        0          0      0   \n",
       "209          0       0       0        0      0        0          0      0   \n",
       "425          0       0       0        0      0        0          0      0   \n",
       "982          0       0       0        0      0        0          0      0   \n",
       "619          0       0       0        0      0        0          0      0   \n",
       "\n",
       "      zycie'  |  \n",
       "1510       0  0  \n",
       "209        0  0  \n",
       "425        0  0  \n",
       "982        0  0  \n",
       "619        0  0  \n",
       "\n",
       "[5 rows x 45671 columns]"
      ]
     },
     "execution_count": 78,
     "metadata": {},
     "output_type": "execute_result"
    }
   ],
   "source": [
    "y_training = training['__CLASS__']\n",
    "x_training = training.drop('__CLASS__', 1)\n",
    "y_validation = remaining['__CLASS__']\n",
    "x_validation = remaining.drop('__CLASS__', 1)\n",
    "\n",
    "x_training.head()"
   ]
  },
  {
   "cell_type": "markdown",
   "metadata": {},
   "source": [
    "# Logistic Regression"
   ]
  },
  {
   "cell_type": "markdown",
   "metadata": {},
   "source": [
    "#### Basic Logistic Regression\n",
    "* Use sklearn's linear_model.LogisticRegression() to create your model.\n",
    "* Fit the data and labels with your model.\n",
    "* Score your model with the same data and labels.\n",
    "\n",
    "References:\n",
    "\n",
    "http://scikit-learn.org/stable/modules/generated/sklearn.linear_model.LogisticRegression.html"
   ]
  },
  {
   "cell_type": "code",
   "execution_count": 79,
   "metadata": {
    "collapsed": false
   },
   "outputs": [
    {
     "data": {
      "text/plain": [
       "0.8125"
      ]
     },
     "execution_count": 79,
     "metadata": {},
     "output_type": "execute_result"
    }
   ],
   "source": [
    "from sklearn import linear_model\n",
    "log_regression_model = sklearn.linear_model.LogisticRegression()\n",
    "log_regression_model.fit(x_training, y_training)\n",
    "log_regression_model.score(x_validation, y_validation)\n"
   ]
  },
  {
   "cell_type": "markdown",
   "metadata": {},
   "source": [
    "#### Changing Parameters"
   ]
  },
  {
   "cell_type": "code",
   "execution_count": 80,
   "metadata": {
    "collapsed": false
   },
   "outputs": [
    {
     "data": {
      "text/plain": [
       "0.81562500000000004"
      ]
     },
     "execution_count": 80,
     "metadata": {},
     "output_type": "execute_result"
    }
   ],
   "source": [
    "logreg = sklearn.linear_model.LogisticRegression(tol=1e-11)\n",
    "logreg.fit(x_training, y_training)\n",
    "logreg.score(x_validation, y_validation)"
   ]
  },
  {
   "cell_type": "code",
   "execution_count": 81,
   "metadata": {
    "collapsed": false
   },
   "outputs": [
    {
     "data": {
      "text/plain": [
       "0.82187500000000002"
      ]
     },
     "execution_count": 81,
     "metadata": {},
     "output_type": "execute_result"
    }
   ],
   "source": [
    "logreg = sklearn.linear_model.LogisticRegression(C = 1e2)\n",
    "logreg.fit(x_training, y_training)\n",
    "logreg.score(x_validation, y_validation)"
   ]
  },
  {
   "cell_type": "code",
   "execution_count": 82,
   "metadata": {
    "collapsed": true
   },
   "outputs": [],
   "source": [
    "means = []\n",
    "for row in x_training:\n",
    "    means.append(x_training[row].mean())"
   ]
  },
  {
   "cell_type": "code",
   "execution_count": 83,
   "metadata": {
    "collapsed": false
   },
   "outputs": [
    {
     "data": {
      "text/plain": [
       "array([ 0.00078125,  0.00078125,  0.00078125, ...,  0.        ,\n",
       "        0.        ,  0.        ])"
      ]
     },
     "execution_count": 83,
     "metadata": {},
     "output_type": "execute_result"
    }
   ],
   "source": [
    "means = np.asarray(means)\n",
    "means"
   ]
  },
  {
   "cell_type": "code",
   "execution_count": 84,
   "metadata": {
    "collapsed": false
   },
   "outputs": [
    {
     "data": {
      "text/plain": [
       "45671"
      ]
     },
     "execution_count": 84,
     "metadata": {},
     "output_type": "execute_result"
    }
   ],
   "source": [
    "means.size"
   ]
  },
  {
   "cell_type": "code",
   "execution_count": 85,
   "metadata": {
    "collapsed": true
   },
   "outputs": [],
   "source": [
    "m = means.mean()"
   ]
  },
  {
   "cell_type": "code",
   "execution_count": 86,
   "metadata": {
    "collapsed": true
   },
   "outputs": [],
   "source": [
    "std = means.std()"
   ]
  },
  {
   "cell_type": "code",
   "execution_count": 87,
   "metadata": {
    "collapsed": false
   },
   "outputs": [
    {
     "data": {
      "text/plain": [
       "0.016405976303343478"
      ]
     },
     "execution_count": 87,
     "metadata": {},
     "output_type": "execute_result"
    }
   ],
   "source": [
    "m"
   ]
  },
  {
   "cell_type": "code",
   "execution_count": 88,
   "metadata": {
    "collapsed": false
   },
   "outputs": [
    {
     "data": {
      "text/plain": [
       "0.37061859010896875"
      ]
     },
     "execution_count": 88,
     "metadata": {},
     "output_type": "execute_result"
    }
   ],
   "source": [
    "std"
   ]
  },
  {
   "cell_type": "code",
   "execution_count": 16,
   "metadata": {
    "collapsed": true
   },
   "outputs": [],
   "source": [
    "#has to be +1 sd or more\n",
    "x_validation= x_validation.drop([row for row in x_training if x_training[row].mean() - m < std], axis=1)\n",
    "x_training = x_training.drop([row for row in x_training if x_training[row].mean() - m < std], axis=1)"
   ]
  },
  {
   "cell_type": "code",
   "execution_count": 17,
   "metadata": {
    "collapsed": false
   },
   "outputs": [
    {
     "data": {
      "text/html": [
       "<div>\n",
       "<table border=\"1\" class=\"dataframe\">\n",
       "  <thead>\n",
       "    <tr style=\"text-align: right;\">\n",
       "      <th></th>\n",
       "      <th>!</th>\n",
       "      <th>\"</th>\n",
       "      <th>(</th>\n",
       "      <th>)</th>\n",
       "      <th>*</th>\n",
       "      <th>,</th>\n",
       "      <th>-</th>\n",
       "      <th>--</th>\n",
       "      <th>.</th>\n",
       "      <th>:</th>\n",
       "      <th>...</th>\n",
       "      <th>who</th>\n",
       "      <th>why</th>\n",
       "      <th>will</th>\n",
       "      <th>with</th>\n",
       "      <th>work</th>\n",
       "      <th>world</th>\n",
       "      <th>would</th>\n",
       "      <th>years</th>\n",
       "      <th>you</th>\n",
       "      <th>your</th>\n",
       "    </tr>\n",
       "  </thead>\n",
       "  <tbody>\n",
       "    <tr>\n",
       "      <th>1510</th>\n",
       "      <td>0</td>\n",
       "      <td>0</td>\n",
       "      <td>7</td>\n",
       "      <td>7</td>\n",
       "      <td>0</td>\n",
       "      <td>29</td>\n",
       "      <td>2</td>\n",
       "      <td>0</td>\n",
       "      <td>28</td>\n",
       "      <td>0</td>\n",
       "      <td>...</td>\n",
       "      <td>2</td>\n",
       "      <td>0</td>\n",
       "      <td>2</td>\n",
       "      <td>5</td>\n",
       "      <td>1</td>\n",
       "      <td>1</td>\n",
       "      <td>0</td>\n",
       "      <td>0</td>\n",
       "      <td>1</td>\n",
       "      <td>0</td>\n",
       "    </tr>\n",
       "    <tr>\n",
       "      <th>209</th>\n",
       "      <td>0</td>\n",
       "      <td>4</td>\n",
       "      <td>2</td>\n",
       "      <td>2</td>\n",
       "      <td>0</td>\n",
       "      <td>33</td>\n",
       "      <td>0</td>\n",
       "      <td>0</td>\n",
       "      <td>26</td>\n",
       "      <td>1</td>\n",
       "      <td>...</td>\n",
       "      <td>2</td>\n",
       "      <td>1</td>\n",
       "      <td>1</td>\n",
       "      <td>7</td>\n",
       "      <td>0</td>\n",
       "      <td>0</td>\n",
       "      <td>2</td>\n",
       "      <td>0</td>\n",
       "      <td>4</td>\n",
       "      <td>0</td>\n",
       "    </tr>\n",
       "    <tr>\n",
       "      <th>425</th>\n",
       "      <td>0</td>\n",
       "      <td>0</td>\n",
       "      <td>7</td>\n",
       "      <td>7</td>\n",
       "      <td>4</td>\n",
       "      <td>47</td>\n",
       "      <td>0</td>\n",
       "      <td>5</td>\n",
       "      <td>36</td>\n",
       "      <td>5</td>\n",
       "      <td>...</td>\n",
       "      <td>1</td>\n",
       "      <td>2</td>\n",
       "      <td>0</td>\n",
       "      <td>5</td>\n",
       "      <td>0</td>\n",
       "      <td>0</td>\n",
       "      <td>1</td>\n",
       "      <td>0</td>\n",
       "      <td>0</td>\n",
       "      <td>0</td>\n",
       "    </tr>\n",
       "    <tr>\n",
       "      <th>982</th>\n",
       "      <td>0</td>\n",
       "      <td>0</td>\n",
       "      <td>1</td>\n",
       "      <td>1</td>\n",
       "      <td>0</td>\n",
       "      <td>41</td>\n",
       "      <td>0</td>\n",
       "      <td>0</td>\n",
       "      <td>32</td>\n",
       "      <td>1</td>\n",
       "      <td>...</td>\n",
       "      <td>4</td>\n",
       "      <td>0</td>\n",
       "      <td>1</td>\n",
       "      <td>5</td>\n",
       "      <td>0</td>\n",
       "      <td>1</td>\n",
       "      <td>4</td>\n",
       "      <td>0</td>\n",
       "      <td>1</td>\n",
       "      <td>0</td>\n",
       "    </tr>\n",
       "    <tr>\n",
       "      <th>619</th>\n",
       "      <td>1</td>\n",
       "      <td>6</td>\n",
       "      <td>10</td>\n",
       "      <td>12</td>\n",
       "      <td>2</td>\n",
       "      <td>86</td>\n",
       "      <td>0</td>\n",
       "      <td>2</td>\n",
       "      <td>52</td>\n",
       "      <td>1</td>\n",
       "      <td>...</td>\n",
       "      <td>3</td>\n",
       "      <td>1</td>\n",
       "      <td>0</td>\n",
       "      <td>9</td>\n",
       "      <td>1</td>\n",
       "      <td>0</td>\n",
       "      <td>2</td>\n",
       "      <td>1</td>\n",
       "      <td>1</td>\n",
       "      <td>1</td>\n",
       "    </tr>\n",
       "  </tbody>\n",
       "</table>\n",
       "<p>5 rows × 202 columns</p>\n",
       "</div>"
      ],
      "text/plain": [
       "      !  \"   (   )  *   ,  -  --   .  :  ...   who  why  will  with  work  \\\n",
       "1510  0  0   7   7  0  29  2   0  28  0  ...     2    0     2     5     1   \n",
       "209   0  4   2   2  0  33  0   0  26  1  ...     2    1     1     7     0   \n",
       "425   0  0   7   7  4  47  0   5  36  5  ...     1    2     0     5     0   \n",
       "982   0  0   1   1  0  41  0   0  32  1  ...     4    0     1     5     0   \n",
       "619   1  6  10  12  2  86  0   2  52  1  ...     3    1     0     9     1   \n",
       "\n",
       "      world  would  years  you  your  \n",
       "1510      1      0      0    1     0  \n",
       "209       0      2      0    4     0  \n",
       "425       0      1      0    0     0  \n",
       "982       1      4      0    1     0  \n",
       "619       0      2      1    1     1  \n",
       "\n",
       "[5 rows x 202 columns]"
      ]
     },
     "execution_count": 17,
     "metadata": {},
     "output_type": "execute_result"
    }
   ],
   "source": [
    "x_training.head()"
   ]
  },
  {
   "cell_type": "code",
   "execution_count": 18,
   "metadata": {
    "collapsed": false
   },
   "outputs": [
    {
     "data": {
      "text/plain": [
       "LogisticRegression(C=1.0, class_weight=None, dual=False, fit_intercept=True,\n",
       "          intercept_scaling=1, max_iter=100, multi_class='ovr',\n",
       "          penalty='l2', random_state=None, solver='liblinear', tol=1e-11,\n",
       "          verbose=0)"
      ]
     },
     "execution_count": 18,
     "metadata": {},
     "output_type": "execute_result"
    }
   ],
   "source": [
    "logreg = sklearn.linear_model.LogisticRegression(tol=1e-11)\n",
    "logreg.fit(x_training, y_training)"
   ]
  },
  {
   "cell_type": "code",
   "execution_count": 19,
   "metadata": {
    "collapsed": false
   },
   "outputs": [
    {
     "data": {
      "text/plain": [
       "(1280, 202)"
      ]
     },
     "execution_count": 19,
     "metadata": {},
     "output_type": "execute_result"
    }
   ],
   "source": [
    "x_training.shape"
   ]
  },
  {
   "cell_type": "code",
   "execution_count": 20,
   "metadata": {
    "collapsed": false
   },
   "outputs": [
    {
     "data": {
      "text/plain": [
       "(1280,)"
      ]
     },
     "execution_count": 20,
     "metadata": {},
     "output_type": "execute_result"
    }
   ],
   "source": [
    "y_training.shape"
   ]
  },
  {
   "cell_type": "code",
   "execution_count": 21,
   "metadata": {
    "collapsed": false
   },
   "outputs": [
    {
     "data": {
      "text/plain": [
       "(320, 202)"
      ]
     },
     "execution_count": 21,
     "metadata": {},
     "output_type": "execute_result"
    }
   ],
   "source": [
    "x_validation.shape"
   ]
  },
  {
   "cell_type": "code",
   "execution_count": 22,
   "metadata": {
    "collapsed": false
   },
   "outputs": [
    {
     "data": {
      "text/plain": [
       "(320,)"
      ]
     },
     "execution_count": 22,
     "metadata": {},
     "output_type": "execute_result"
    }
   ],
   "source": [
    "y_validation.shape"
   ]
  },
  {
   "cell_type": "code",
   "execution_count": 23,
   "metadata": {
    "collapsed": false
   },
   "outputs": [
    {
     "data": {
      "text/plain": [
       "0.85546875"
      ]
     },
     "execution_count": 23,
     "metadata": {},
     "output_type": "execute_result"
    }
   ],
   "source": [
    "logreg.score(x_training, y_training)"
   ]
  },
  {
   "cell_type": "markdown",
   "metadata": {},
   "source": [
    "#### Feature Selection\n",
    "* In the backward stepsize selection method, you can remove coefficients and the corresponding x columns, where the coefficient is more than a particular amount away from the mean - you can choose how far from the mean is reasonable.\n",
    "\n",
    "References:\n",
    "\n",
    "https://pandas.pydata.org/pandas-docs/stable/generated/pandas.DataFrame.html#\n",
    "https://pandas.pydata.org/pandas-docs/stable/generated/pandas.DataFrame.sample.html\n",
    "https://pandas.pydata.org/pandas-docs/stable/generated/pandas.DataFrame.drop.html\n",
    "http://scikit-learn.org/stable/modules/generated/sklearn.linear_model.LogisticRegression.html\n",
    "https://docs.scipy.org/doc/numpy-1.13.0/reference/generated/numpy.where.html\n",
    "https://docs.scipy.org/doc/numpy-1.13.0/reference/generated/numpy.std.html\n",
    "https://docs.scipy.org/doc/numpy-1.13.0/reference/generated/numpy.mean.html"
   ]
  },
  {
   "cell_type": "code",
   "execution_count": null,
   "metadata": {
    "collapsed": true
   },
   "outputs": [],
   "source": []
  },
  {
   "cell_type": "markdown",
   "metadata": {},
   "source": [
    "How did you select which features to remove? Why did that reduce overfitting?"
   ]
  },
  {
   "cell_type": "code",
   "execution_count": null,
   "metadata": {
    "collapsed": true
   },
   "outputs": [],
   "source": []
  },
  {
   "cell_type": "markdown",
   "metadata": {},
   "source": [
    "# Single Decision Tree"
   ]
  },
  {
   "cell_type": "markdown",
   "metadata": {},
   "source": [
    "#### Basic Decision Tree\n",
    "\n",
    "* Initialize your model as a decision tree with sklearn.\n",
    "* Fit the data and labels to the model.\n",
    "\n",
    "References:\n",
    "\n",
    "http://scikit-learn.org/stable/modules/generated/sklearn.tree.DecisionTreeClassifier.html\n"
   ]
  },
  {
   "cell_type": "code",
   "execution_count": 25,
   "metadata": {
    "collapsed": false
   },
   "outputs": [
    {
     "data": {
      "text/plain": [
       "0.60624999999999996"
      ]
     },
     "execution_count": 25,
     "metadata": {},
     "output_type": "execute_result"
    }
   ],
   "source": [
    "from sklearn.tree import DecisionTreeClassifier\n",
    "decision_tree_model = sklearn.tree.DecisionTreeClassifier()\n",
    "decision_tree_model.fit(x_training, y_training)\n",
    "decision_tree_model.score(x_validation, y_validation)\n"
   ]
  },
  {
   "cell_type": "markdown",
   "metadata": {},
   "source": [
    "#### Changing Parameters\n",
    "* To test out which value is optimal for a particular parameter, you can either loop through various values or look into sklearn.model_selection.GridSearchCV\n",
    "\n",
    "References:\n",
    "\n",
    "\n",
    "http://scikit-learn.org/stable/modules/generated/sklearn.model_selection.GridSearchCV.html\n",
    "http://scikit-learn.org/stable/modules/generated/sklearn.tree.DecisionTreeClassifier.html"
   ]
  },
  {
   "cell_type": "code",
   "execution_count": 26,
   "metadata": {
    "collapsed": false
   },
   "outputs": [
    {
     "name": "stdout",
     "output_type": "stream",
     "text": [
      "Feature ranking:\n",
      "1. feature 22 (0.078566)\n",
      "2. feature 31 (0.077213)\n",
      "3. feature 5 (0.025619)\n",
      "4. feature 150 (0.022612)\n",
      "5. feature 99 (0.021964)\n",
      "6. feature 76 (0.019963)\n",
      "7. feature 43 (0.019391)\n",
      "8. feature 113 (0.017427)\n",
      "9. feature 28 (0.016429)\n",
      "10. feature 119 (0.016126)\n",
      "11. feature 171 (0.015759)\n",
      "12. feature 121 (0.015287)\n",
      "13. feature 11 (0.014918)\n",
      "14. feature 91 (0.014752)\n",
      "15. feature 174 (0.014749)\n",
      "16. feature 108 (0.013872)\n",
      "17. feature 145 (0.013755)\n",
      "18. feature 166 (0.012495)\n",
      "19. feature 44 (0.012495)\n",
      "20. feature 186 (0.012423)\n",
      "21. feature 93 (0.012326)\n",
      "22. feature 60 (0.012246)\n",
      "23. feature 161 (0.011365)\n",
      "24. feature 181 (0.011150)\n",
      "25. feature 68 (0.011092)\n",
      "26. feature 134 (0.011060)\n",
      "27. feature 50 (0.010587)\n",
      "28. feature 156 (0.010462)\n",
      "29. feature 173 (0.010288)\n",
      "30. feature 46 (0.009956)\n",
      "31. feature 200 (0.009922)\n",
      "32. feature 148 (0.009886)\n",
      "33. feature 19 (0.009429)\n",
      "34. feature 12 (0.009197)\n",
      "35. feature 9 (0.009115)\n",
      "36. feature 79 (0.008802)\n",
      "37. feature 1 (0.008793)\n",
      "38. feature 185 (0.008730)\n",
      "39. feature 89 (0.008727)\n",
      "40. feature 132 (0.008522)\n",
      "41. feature 2 (0.008511)\n",
      "42. feature 20 (0.008478)\n",
      "43. feature 64 (0.008377)\n",
      "44. feature 81 (0.008343)\n",
      "45. feature 88 (0.008145)\n",
      "46. feature 56 (0.008004)\n",
      "47. feature 120 (0.007955)\n",
      "48. feature 197 (0.007939)\n",
      "49. feature 6 (0.007934)\n",
      "50. feature 133 (0.007879)\n",
      "51. feature 35 (0.007848)\n",
      "52. feature 194 (0.006990)\n",
      "53. feature 168 (0.006768)\n",
      "54. feature 77 (0.006710)\n",
      "55. feature 47 (0.006667)\n",
      "56. feature 167 (0.006563)\n",
      "57. feature 182 (0.006492)\n",
      "58. feature 152 (0.006201)\n",
      "59. feature 78 (0.006013)\n",
      "60. feature 75 (0.005869)\n",
      "61. feature 199 (0.005854)\n",
      "62. feature 123 (0.005667)\n",
      "63. feature 126 (0.005530)\n",
      "64. feature 158 (0.005377)\n",
      "65. feature 25 (0.005208)\n",
      "66. feature 172 (0.005093)\n",
      "67. feature 179 (0.005093)\n",
      "68. feature 128 (0.004831)\n",
      "69. feature 62 (0.004815)\n",
      "70. feature 74 (0.004688)\n",
      "71. feature 10 (0.004688)\n",
      "72. feature 160 (0.004654)\n",
      "73. feature 127 (0.004640)\n",
      "74. feature 86 (0.004551)\n",
      "75. feature 30 (0.004511)\n",
      "76. feature 94 (0.004491)\n",
      "77. feature 42 (0.004464)\n",
      "78. feature 0 (0.004464)\n",
      "79. feature 23 (0.004464)\n",
      "80. feature 187 (0.004167)\n",
      "81. feature 135 (0.004087)\n",
      "82. feature 170 (0.003750)\n",
      "83. feature 138 (0.003516)\n",
      "84. feature 122 (0.003509)\n",
      "85. feature 175 (0.003295)\n",
      "86. feature 54 (0.003061)\n",
      "87. feature 144 (0.003045)\n",
      "88. feature 45 (0.003043)\n",
      "89. feature 65 (0.003030)\n",
      "90. feature 176 (0.003005)\n",
      "91. feature 32 (0.002969)\n",
      "92. feature 188 (0.002951)\n",
      "93. feature 37 (0.002918)\n",
      "94. feature 189 (0.002909)\n",
      "95. feature 83 (0.002902)\n",
      "96. feature 155 (0.002887)\n",
      "97. feature 151 (0.002742)\n",
      "98. feature 69 (0.002734)\n",
      "99. feature 137 (0.002730)\n",
      "100. feature 95 (0.002679)\n",
      "101. feature 149 (0.002679)\n",
      "102. feature 115 (0.002604)\n",
      "103. feature 13 (0.002344)\n",
      "104. feature 14 (0.002344)\n",
      "105. feature 130 (0.002344)\n",
      "106. feature 67 (0.002083)\n",
      "107. feature 3 (0.002083)\n",
      "108. feature 15 (0.002083)\n",
      "109. feature 198 (0.002083)\n",
      "110. feature 124 (0.002083)\n",
      "111. feature 139 (0.002083)\n",
      "112. feature 105 (0.002083)\n",
      "113. feature 110 (0.001902)\n",
      "114. feature 40 (0.001702)\n",
      "115. feature 52 (0.001563)\n",
      "116. feature 125 (0.001492)\n",
      "117. feature 7 (0.001296)\n",
      "118. feature 49 (0.000978)\n",
      "119. feature 57 (0.000000)\n",
      "120. feature 33 (0.000000)\n",
      "121. feature 53 (0.000000)\n",
      "122. feature 27 (0.000000)\n",
      "123. feature 34 (0.000000)\n",
      "124. feature 29 (0.000000)\n",
      "125. feature 58 (0.000000)\n",
      "126. feature 55 (0.000000)\n",
      "127. feature 36 (0.000000)\n",
      "128. feature 4 (0.000000)\n",
      "129. feature 18 (0.000000)\n",
      "130. feature 38 (0.000000)\n",
      "131. feature 17 (0.000000)\n",
      "132. feature 8 (0.000000)\n",
      "133. feature 39 (0.000000)\n",
      "134. feature 51 (0.000000)\n",
      "135. feature 41 (0.000000)\n",
      "136. feature 26 (0.000000)\n",
      "137. feature 24 (0.000000)\n",
      "138. feature 48 (0.000000)\n",
      "139. feature 21 (0.000000)\n",
      "140. feature 16 (0.000000)\n",
      "141. feature 59 (0.000000)\n",
      "142. feature 201 (0.000000)\n",
      "143. feature 61 (0.000000)\n",
      "144. feature 63 (0.000000)\n",
      "145. feature 136 (0.000000)\n",
      "146. feature 140 (0.000000)\n",
      "147. feature 141 (0.000000)\n",
      "148. feature 142 (0.000000)\n",
      "149. feature 143 (0.000000)\n",
      "150. feature 146 (0.000000)\n",
      "151. feature 147 (0.000000)\n",
      "152. feature 153 (0.000000)\n",
      "153. feature 154 (0.000000)\n",
      "154. feature 157 (0.000000)\n",
      "155. feature 159 (0.000000)\n",
      "156. feature 162 (0.000000)\n",
      "157. feature 163 (0.000000)\n",
      "158. feature 164 (0.000000)\n",
      "159. feature 165 (0.000000)\n",
      "160. feature 169 (0.000000)\n",
      "161. feature 177 (0.000000)\n",
      "162. feature 178 (0.000000)\n",
      "163. feature 180 (0.000000)\n",
      "164. feature 183 (0.000000)\n",
      "165. feature 184 (0.000000)\n",
      "166. feature 190 (0.000000)\n",
      "167. feature 191 (0.000000)\n",
      "168. feature 192 (0.000000)\n",
      "169. feature 193 (0.000000)\n",
      "170. feature 195 (0.000000)\n",
      "171. feature 196 (0.000000)\n",
      "172. feature 131 (0.000000)\n",
      "173. feature 129 (0.000000)\n",
      "174. feature 118 (0.000000)\n",
      "175. feature 96 (0.000000)\n",
      "176. feature 66 (0.000000)\n",
      "177. feature 70 (0.000000)\n",
      "178. feature 71 (0.000000)\n",
      "179. feature 72 (0.000000)\n",
      "180. feature 73 (0.000000)\n",
      "181. feature 80 (0.000000)\n",
      "182. feature 82 (0.000000)\n",
      "183. feature 84 (0.000000)\n",
      "184. feature 85 (0.000000)\n",
      "185. feature 87 (0.000000)\n",
      "186. feature 90 (0.000000)\n",
      "187. feature 92 (0.000000)\n",
      "188. feature 97 (0.000000)\n",
      "189. feature 117 (0.000000)\n",
      "190. feature 98 (0.000000)\n",
      "191. feature 101 (0.000000)\n",
      "192. feature 102 (0.000000)\n",
      "193. feature 103 (0.000000)\n",
      "194. feature 104 (0.000000)\n",
      "195. feature 106 (0.000000)\n",
      "196. feature 107 (0.000000)\n",
      "197. feature 109 (0.000000)\n",
      "198. feature 111 (0.000000)\n",
      "199. feature 112 (0.000000)\n",
      "200. feature 114 (0.000000)\n",
      "201. feature 116 (0.000000)\n",
      "202. feature 100 (0.000000)\n"
     ]
    }
   ],
   "source": [
    "from sklearn.tree import DecisionTreeClassifier\n",
    "classifier = DecisionTreeClassifier()\n",
    "\n",
    "classifier.fit(x_training, y_training)\n",
    "importances = classifier.feature_importances_\n",
    "std = np.std(classifier.feature_importances_,\n",
    "             axis=0)\n",
    "indices = np.argsort(importances)[::-1]\n",
    "\n",
    "# Print the feature ranking\n",
    "print(\"Feature ranking:\")\n",
    "\n",
    "for f in range(x_training.shape[1]):\n",
    "    print(\"%d. feature %d (%f)\" % (f + 1, indices[f], importances[indices[f]]))\n",
    "        "
   ]
  },
  {
   "cell_type": "code",
   "execution_count": 27,
   "metadata": {
    "collapsed": false
   },
   "outputs": [
    {
     "data": {
      "image/png": "[encoded data removed]",
      "text/plain": [
       "<matplotlib.figure.Figure at 0x12bd737f0>"
      ]
     },
     "metadata": {},
     "output_type": "display_data"
    }
   ],
   "source": [
    "plt_training_scores = [];\n",
    "plt_val_scores = [];\n",
    "\n",
    "for i in [1, 5, 10, 50, 100, 500, 1000, 5000, 10000]:\n",
    "    new_tree_model = sklearn.tree.DecisionTreeClassifier(max_depth=i)\n",
    "    new_tree_model.fit(x_training, y_training)\n",
    "    plt_training_scores.append(new_tree_model.score(x_training, y_training))\n",
    "    plt_val_scores.append(new_tree_model.score(x_validation,y_validation))\n",
    "\n",
    "plt.plot(plt_training_scores)\n",
    "plt.ylabel('training scores')\n",
    "plt.show()"
   ]
  },
  {
   "cell_type": "markdown",
   "metadata": {},
   "source": [
    "How did you choose which parameters to change and what value to give to them? Feel free to show a plot.\n",
    "\n",
    "(The parameters are changed at the end of this section). I changed max_depth to 5, and max_features to 10,000. This increased the score from 0.628 to 0.656."
   ]
  },
  {
   "cell_type": "code",
   "execution_count": 28,
   "metadata": {
    "collapsed": false
   },
   "outputs": [
    {
     "data": {
      "image/png": "[encoded data removed]",
      "text/plain": [
       "<matplotlib.figure.Figure at 0x12bd6f320>"
      ]
     },
     "metadata": {},
     "output_type": "display_data"
    }
   ],
   "source": [
    "plt.plot(plt_val_scores)\n",
    "plt.ylabel('validation scores')\n",
    "plt.show()"
   ]
  },
  {
   "cell_type": "code",
   "execution_count": 45,
   "metadata": {
    "collapsed": false
   },
   "outputs": [
    {
     "data": {
      "image/png": "[encoded data removed]",
      "text/plain": [
       "<matplotlib.figure.Figure at 0x12da01080>"
      ]
     },
     "metadata": {},
     "output_type": "display_data"
    }
   ],
   "source": [
    "plt_training_scores = [];\n",
    "plt_val_scores = [];\n",
    "\n",
    "for i in [1, 10, 50, 100, 500, 1000, 5000, 10000, 40000]:\n",
    "    new_tree_model = sklearn.tree.DecisionTreeClassifier(max_features=i)\n",
    "    new_tree_model.fit(x_training, y_training)\n",
    "    plt_training_scores.append(new_tree_model.score(x_training, y_training))\n",
    "    plt_val_scores.append(new_tree_model.score(x_validation,y_validation))\n",
    "\n",
    "plt.plot(plt_training_scores)\n",
    "plt.ylabel('training scores')\n",
    "plt.show()"
   ]
  },
  {
   "cell_type": "markdown",
   "metadata": {},
   "source": [
    "Why is a single decision tree so prone to overfitting?\n",
    "\n",
    "Decisions Trees are prone to overfitting because unless you stop them before completion, they will always perfectly categorize all the elements in the test set, meaning that they do not generalize well and overfit."
   ]
  },
  {
   "cell_type": "code",
   "execution_count": 46,
   "metadata": {
    "collapsed": false
   },
   "outputs": [
    {
     "data": {
      "image/png": "[encoded data removed]",
      "text/plain": [
       "<matplotlib.figure.Figure at 0x12d9fdb38>"
      ]
     },
     "metadata": {},
     "output_type": "display_data"
    }
   ],
   "source": [
    "plt.plot(plt_val_scores)\n",
    "plt.ylabel('validation scores')\n",
    "plt.show()"
   ]
  },
  {
   "cell_type": "code",
   "execution_count": 47,
   "metadata": {
    "collapsed": false
   },
   "outputs": [
    {
     "data": {
      "text/plain": [
       "0.59062499999999996"
      ]
     },
     "execution_count": 47,
     "metadata": {},
     "output_type": "execute_result"
    }
   ],
   "source": [
    "improved_tree_model = sklearn.tree.DecisionTreeClassifier(max_depth=5, max_features=100)\n",
    "improved_tree_model.fit(x_training, y_training)\n",
    "improved_tree_model.score(x_validation, y_validation)"
   ]
  },
  {
   "cell_type": "markdown",
   "metadata": {},
   "source": [
    "# Random Forest Classifier"
   ]
  },
  {
   "cell_type": "markdown",
   "metadata": {},
   "source": [
    "#### Basic Random Forest\n",
    "\n",
    "* Use sklearn's ensemble.RandomForestClassifier() to create your model.\n",
    "* Fit the data and labels with your model.\n",
    "* Score your model with the same data and labels.\n",
    "\n",
    "References:\n",
    "\n",
    "http://scikit-learn.org/stable/modules/generated/sklearn.ensemble.RandomForestClassifier.html\n"
   ]
  },
  {
   "cell_type": "code",
   "execution_count": 48,
   "metadata": {
    "collapsed": false
   },
   "outputs": [
    {
     "data": {
      "text/plain": [
       "0.71875"
      ]
     },
     "execution_count": 48,
     "metadata": {},
     "output_type": "execute_result"
    }
   ],
   "source": [
    "from sklearn.ensemble import RandomForestClassifier\n",
    "random_forest = RandomForestClassifier()\n",
    "random_forest.fit(x_training, y_training)\n",
    "random_forest.score(x_validation, y_validation)"
   ]
  },
  {
   "cell_type": "markdown",
   "metadata": {},
   "source": [
    "#### Changing Parameters"
   ]
  },
  {
   "cell_type": "code",
   "execution_count": 63,
   "metadata": {
    "collapsed": false
   },
   "outputs": [
    {
     "data": {
      "image/png": "[encoded data removed]",
      "text/plain": [
       "<matplotlib.figure.Figure at 0x11eece278>"
      ]
     },
     "metadata": {},
     "output_type": "display_data"
    }
   ],
   "source": [
    "plt_training_scores = [];\n",
    "plt_val_scores = [];\n",
    "features = [1, 10, 50, 100, 500, 1000]\n",
    "for i in features:\n",
    "    new_tree_model = RandomForestClassifier(max_features=i)\n",
    "    new_tree_model.fit(x_training, y_training)\n",
    "    plt_training_scores.append(new_tree_model.score(x_training, y_training))\n",
    "    plt_val_scores.append(new_tree_model.score(x_validation,y_validation))\n",
    "\n",
    "plt.plot([math.log10(x) for x in features], plt_training_scores)\n",
    "plt.ylabel('training scores')\n",
    "plt.show()"
   ]
  },
  {
   "cell_type": "code",
   "execution_count": 50,
   "metadata": {
    "collapsed": false
   },
   "outputs": [
    {
     "data": {
      "image/png": "[encoded data removed]",
      "text/plain": [
       "<matplotlib.figure.Figure at 0x12e278278>"
      ]
     },
     "metadata": {},
     "output_type": "display_data"
    }
   ],
   "source": [
    "plt.plot(plt_val_scores)\n",
    "plt.ylabel('validation scores')\n",
    "plt.show()"
   ]
  },
  {
   "cell_type": "code",
   "execution_count": 61,
   "metadata": {
    "collapsed": false
   },
   "outputs": [
    {
     "data": {
      "image/png": "[encoded data removed]",
      "text/plain": [
       "<matplotlib.figure.Figure at 0x12d471d30>"
      ]
     },
     "metadata": {},
     "output_type": "display_data"
    }
   ],
   "source": [
    "plt_training_scores = [];\n",
    "plt_val_scores = [];\n",
    "depth = [1, 5, 10, 50, 100, 500, 1000, 5000, 10000]\n",
    "for i in depth:\n",
    "    new_tree_model = RandomForestClassifier(max_depth=i)\n",
    "    new_tree_model.fit(x_training, y_training)\n",
    "    plt_training_scores.append(new_tree_model.score(x_training, y_training))\n",
    "    plt_val_scores.append(new_tree_model.score(x_validation,y_validation))\n",
    "\n",
    "plt.plot([math.log10(x) for x in depth], plt_training_scores)\n",
    "plt.ylabel('training scores')\n",
    "plt.show()"
   ]
  },
  {
   "cell_type": "code",
   "execution_count": 52,
   "metadata": {
    "collapsed": false
   },
   "outputs": [
    {
     "data": {
      "image/png": "[encoded data removed]",
      "text/plain": [
       "<matplotlib.figure.Figure at 0x12e6a3b70>"
      ]
     },
     "metadata": {},
     "output_type": "display_data"
    }
   ],
   "source": [
    "plt.plot(plt_val_scores)\n",
    "plt.ylabel('validation scores')\n",
    "plt.show()"
   ]
  },
  {
   "cell_type": "code",
   "execution_count": 67,
   "metadata": {
    "collapsed": false
   },
   "outputs": [
    {
     "data": {
      "image/png": "[encoded data removed]",
      "text/plain": [
       "<matplotlib.figure.Figure at 0x11eed4be0>"
      ]
     },
     "metadata": {},
     "output_type": "display_data"
    }
   ],
   "source": [
    "plt_training_scores = [];\n",
    "plt_val_scores = [];\n",
    "estimators = [1, 5, 10, 15, 20]\n",
    "for i in estimators:\n",
    "    new_tree_model = RandomForestClassifier(n_estimators=i)\n",
    "    new_tree_model.fit(x_training, y_training)\n",
    "    plt_training_scores.append(new_tree_model.score(x_training, y_training))\n",
    "    plt_val_scores.append(new_tree_model.score(x_validation,y_validation))\n",
    "\n",
    "plt.plot([math.log10(x) for x in estimators], plt_training_scores)\n",
    "plt.ylabel('training scores')\n",
    "plt.show()"
   ]
  },
  {
   "cell_type": "code",
   "execution_count": 68,
   "metadata": {
    "collapsed": false
   },
   "outputs": [
    {
     "data": {
      "image/png": "[encoded data removed]",
      "text/plain": [
       "<matplotlib.figure.Figure at 0x12e746400>"
      ]
     },
     "metadata": {},
     "output_type": "display_data"
    }
   ],
   "source": [
    "plt.plot(plt_val_scores)\n",
    "plt.ylabel('validation scores')\n",
    "plt.show()"
   ]
  },
  {
   "cell_type": "markdown",
   "metadata": {},
   "source": [
    "What parameters did you choose to change and why?"
   ]
  },
  {
   "cell_type": "code",
   "execution_count": 70,
   "metadata": {
    "collapsed": false
   },
   "outputs": [
    {
     "data": {
      "text/plain": [
       "0.99765625000000002"
      ]
     },
     "execution_count": 70,
     "metadata": {},
     "output_type": "execute_result"
    }
   ],
   "source": [
    "new_tree_model = RandomForestClassifier(n_estimators=15, max_depth = 500, max_features=50)\n",
    "new_tree_model.fit(x_training, y_training)\n",
    "new_tree_model.score(x_training, y_training)"
   ]
  },
  {
   "cell_type": "markdown",
   "metadata": {},
   "source": [
    "How does a random forest classifier prevent overfitting better than a single decision tree?"
   ]
  },
  {
   "cell_type": "code",
   "execution_count": null,
   "metadata": {
    "collapsed": true
   },
   "outputs": [],
   "source": []
  },
  {
   "cell_type": "code",
   "execution_count": null,
   "metadata": {
    "collapsed": true
   },
   "outputs": [],
   "source": []
  }
 ],
 "metadata": {
  "kernelspec": {
   "display_name": "Python 3",
   "language": "python",
   "name": "python3"
  },
  "language_info": {
   "codemirror_mode": {
    "name": "ipython",
    "version": 3
   },
   "file_extension": ".py",
   "mimetype": "text/x-python",
   "name": "python",
   "nbconvert_exporter": "python",
   "pygments_lexer": "ipython3",
   "version": "3.4.5"
  }
 },
 "nbformat": 4,
 "nbformat_minor": 1
}
